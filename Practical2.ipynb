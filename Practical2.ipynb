{
  "nbformat": 4,
  "nbformat_minor": 0,
  "metadata": {
    "kernelspec": {
      "display_name": "Python 3",
      "language": "python",
      "name": "python3"
    },
    "language_info": {
      "codemirror_mode": {
        "name": "ipython",
        "version": 3
      },
      "file_extension": ".py",
      "mimetype": "text/x-python",
      "name": "python",
      "nbconvert_exporter": "python",
      "pygments_lexer": "ipython3",
      "version": "3.8.5"
    },
    "colab": {
      "name": "Practical2.ipynb",
      "provenance": [],
      "collapsed_sections": [],
      "include_colab_link": true
    }
  },
  "cells": [
    {
      "cell_type": "markdown",
      "metadata": {
        "id": "view-in-github",
        "colab_type": "text"
      },
      "source": [
        "<a href=\"https://colab.research.google.com/github/manunarayanan/hello-world/blob/master/Practical2.ipynb\" target=\"_parent\"><img src=\"https://colab.research.google.com/assets/colab-badge.svg\" alt=\"Open In Colab\"/></a>"
      ]
    },
    {
      "cell_type": "markdown",
      "metadata": {
        "id": "rt9goBkuSnvh"
      },
      "source": [
        "# Practical 2 : Generative and Discriminative Models\n"
      ]
    },
    {
      "cell_type": "markdown",
      "metadata": {
        "id": "NaothNs3Snvx"
      },
      "source": [
        "In this practical, we will compare the Naïve Bayes Classifier (NBC) and Logistic Regression on six\n",
        "datasets. As part of the practical you should briefly read the following paper:\n",
        "\n"
      ]
    },
    {
      "cell_type": "markdown",
      "metadata": {
        "id": "J67T1fWOSnvy"
      },
      "source": [
        "**On Discriminative vs. Generative classifiers: A comparison of logistic regression\n",
        "and naive Bayes**  \n",
        "*Andrew Y. Ng and Michael I. Jordan*  \n",
        "Advances in Neural Information Processing Systems (NIPS) 2001.\n",
        "\n",
        "The paper is available on OLAT. "
      ]
    },
    {
      "cell_type": "markdown",
      "metadata": {
        "id": "Q0IM_X0rSnvy"
      },
      "source": [
        "You should read the Introduction and the Experiments sections. The goal of this practical is\n",
        "to qualitatively reproduce some of the experimental results in this paper. You are strongly\n",
        "encouraged to read the rest of the paper, which is rather short and straightforward to read,\n",
        "though some of you may want to skip the formal proofs."
      ]
    },
    {
      "cell_type": "markdown",
      "metadata": {
        "id": "o1FKdWQ_Snvy"
      },
      "source": [
        "## Naïve Bayes Classifier"
      ]
    },
    {
      "cell_type": "markdown",
      "metadata": {
        "id": "AXh2ZbkwSnvz"
      },
      "source": [
        "You should implement a Naïve Bayes Classifier directly in python. To keep your code tidy,\n",
        "we recommend implementing it as a class. Make sure that your classifier can handle binary, continuous and categorical features, and an arbitrary number of class labels. Suppose the data has 3\n",
        "different features, the first being binary, the second being continuous and the third being categorical, and that there are\n",
        "4 classes. Write an implementation that you can initialise as follows:\n",
        "\n",
        "    nbc = NBC(feature_types=['b', 'r', 'c'], num_classes=4)"
      ]
    },
    {
      "cell_type": "markdown",
      "metadata": {
        "id": "dk4fRjmYSnvz"
      },
      "source": [
        "Along the lines of classifiers provided in sklearn, you want to implement two more functions,\n",
        "**fit** and **predict**. \n",
        "Recall the joint distribution of a generative model: $p(\\mathbf{x}, y \\mid \\theta, \\pi) = p(y | \\pi) \\cdot p(\\mathbf{x} \\mid y, \\theta)$.\n",
        "The fit function is expected to estimate all the parameters ($\\theta$ and $\\pi$) of the NBC. The predict function is expected to compute the probabilities that the new input belongs to all classes and\n",
        "then return the class that has the largest probability.\n",
        "\n",
        "    nbc.fit(X_train, y_train)\n",
        "    ypredicted = nbc.predict(X_test)\n",
        "    test_accuracy = np.mean(ypredicted == ytest)"
      ]
    },
    {
      "cell_type": "code",
      "metadata": {
        "colab": {
          "base_uri": "https://localhost:8080/"
        },
        "id": "1pCNEd8pfGw7",
        "outputId": "88c89345-317f-45d3-aebb-d2cbf5568725"
      },
      "source": [
        "from google.colab import drive\r\n",
        "drive.mount('/content/drive')"
      ],
      "execution_count": null,
      "outputs": [
        {
          "output_type": "stream",
          "text": [
            "Mounted at /content/drive\n"
          ],
          "name": "stdout"
        }
      ]
    },
    {
      "cell_type": "markdown",
      "metadata": {
        "id": "psdnqNuKSnvz"
      },
      "source": [
        "Here we import the libraries. "
      ]
    },
    {
      "cell_type": "code",
      "metadata": {
        "id": "RV74XkBtSnv0"
      },
      "source": [
        "%matplotlib inline\n",
        "import pylab\n",
        "pylab.rcParams['figure.figsize'] = (10., 10.)\n",
        "\n",
        "import pickle as cp\n",
        "import matplotlib.pyplot as plt\n",
        "import numpy as np\n",
        "from sklearn.model_selection import train_test_split"
      ],
      "execution_count": null,
      "outputs": []
    },
    {
      "cell_type": "markdown",
      "metadata": {
        "id": "zfOJoyGMSnv0"
      },
      "source": [
        "Before implementing NBC, we suggest you first implement the three types of the distributions of the parameters of NBC. Your implementation should have two functions: **estimate** and **get_probability**. The estimate function takes some data as input and computes the maximum likelihood estimators (MLE) for the parameters $\\theta$ of the distribution $p(x | \\theta)$. The get_probability function takes a new input value $x_{new}$ and returns $p(x_{new} | \\theta)$. For example, in the case of continuous features, we can use the Gaussian distribution. The estimate function will find the parameters $\\mu$ and $\\sigma$ for the Gaussian distribution with respect to the input data, and the function get_probability will return $\\mathcal{N}(x_{new} \\mid \\mu, \\sigma)$. \n",
        "\n",
        "![alt text](pics/mle_4.png)\n"
      ]
    },
    {
      "cell_type": "markdown",
      "metadata": {
        "id": "vEPHQV9iSnv0"
      },
      "source": [
        "You can import statistic libraries for the implementation of the distributions. We recommend using the statistical functions provided by `scipy.stats`. Read the documentation here: https://docs.scipy.org/doc/scipy/reference/stats.html\n"
      ]
    },
    {
      "cell_type": "code",
      "metadata": {
        "id": "e11hfnkDSnv1"
      },
      "source": [
        "# Distribution for continuous features\n",
        "class ContFeatureParam:\n",
        "    # Calculate the Gaussian probability distribution function for x\n",
        "    def __init__(self):\n",
        "        pass\n",
        "\n",
        "    def fit(self, X, y):\n",
        "        sep_cont = [[x for x, t in zip(X, y) if t == c] for c in np.unique(y)]\n",
        "        self.model = np.array([np.c_[np.mean(i, axis=0), np.std(i, axis=0)] for i in sep_cont])\n",
        "        return self\n",
        "\n",
        "    def _prob(self, x, mean, std):\n",
        "        expt_cont = np.exp(- ((x - mean)**2 / (2 * std**2)))\n",
        "        return np.log(expt_cont / (np.sqrt(2 * np.pi) * std))  \n",
        "\n",
        "    def get_probability(self, X):\n",
        "      # returns the density value of the input value val\n",
        "      # Note the input value val could be a vector rather than a single value\n",
        "        return [[sum(self._prob(i, *s) for s, i in zip(summaries, x))\n",
        "                for summaries in self.model] for x in X]\n",
        "\n",
        "    def estimate(self, X):\n",
        "        # Estimate the parameters for the Gaussian distribution\n",
        "        return np.argmax(self.get_probability(X), axis=1)\n",
        "\n",
        "\n",
        "# Distribution for binary features\n",
        "class BinFeatureParam:\n",
        "    def __init__(self, alpha=1.0):\n",
        "        self.alpha = alpha\n",
        "\n",
        "    def fit(self, X, y):\n",
        "        count_sample = X.shape[0]\n",
        "        sep_x = [[x for x, t in zip(X, y) if t == c] for c in np.unique(y)]\n",
        "        self.class_log_prior_ = [np.log(len(i) / count_sample) for i in sep_x]\n",
        "        count = np.array([np.array(i).sum(axis=0) for i in sep_x]) + self.alpha\n",
        "\n",
        "        smooth = 2 * self.alpha\n",
        "        smoothed_x = np.array([len(i) + smooth for i in sep_x])\n",
        "        self.feature_prob_ = count / smoothed_x[np.newaxis].T\n",
        "        return self\n",
        "\n",
        "    def get_probability(self, X):\n",
        "        return [(np.log(self.feature_prob_) * x + \\\n",
        "                 np.log(1 - self.feature_prob_) * np.abs(x - 1)\n",
        "                ).sum(axis=1) + self.class_log_prior_ for x in X]             \n",
        "\n",
        "    def estimate(self, X):\n",
        "        #  Estimate the parameters for the Bernoulli distribution\n",
        "        return np.argmax(self.get_probability(X), axis=1)\n",
        "        \n",
        "\n",
        "# # Distribution for categorical features\n",
        "class CatFeatureParam:\n",
        "      def __init__(self, alpha=1.0):\n",
        "          self.alpha = alpha\n",
        "\n",
        "      def fit(self, X, y):\n",
        "          cnt = X.shape[0]\n",
        "          #sep_category = [[x for x, t in zip(X, y) if t == c] for c in np.unique(y)]\n",
        "          #sep_category = [[x for x in X if x[-1] == c] for c in np.unique(y)]\n",
        "          newX = X.copy(deep = True)\n",
        "          newX[y.name] = y.loc[:]\n",
        "          sep_category = []\n",
        "          y_unique = y.unique()\n",
        "          for c in y_unique:\n",
        "              sep_category.append(newX[newX[y.name] == c])\n",
        "              sep_category[-1].drop(y.name, axis=1, inplace=True)\n",
        "          self.class_log_prior_ = [np.log(len(i) / cnt) for i in sep_category]\n",
        "          count_category = np.array([np.array(i).sum(axis=0) for i in sep_category]) + self.alpha\n",
        "          self.feature_log_prob_ = np.log(count_category.astype(float) / count_category.astype(float).sum(axis=1)[np.newaxis].T)\n",
        "          return self\n",
        "\n",
        "      def get_probability(self, X):\n",
        "          #return [np.multiply(self.feature_log_prob_, x).sum(axis=1) + self.class_log_prior_ for x in X]\n",
        "          res_prob = []\n",
        "          for idx in range(len(X)):\n",
        "              res_prob.append(np.multiply(self.feature_log_prob_, X.iloc[idx].values).sum(axis=1) + self.class_log_prior_)\n",
        "          return res_prob\n",
        "\n",
        "      def estimate(self, X):\n",
        "          # Estimate the parameters for the Multinoulli distribution\n",
        "          return np.argmax(self.get_probability(X), axis=1)\n",
        "\n",
        "        "
      ],
      "execution_count": null,
      "outputs": []
    },
    {
      "cell_type": "markdown",
      "metadata": {
        "id": "f--uClfoSnv2"
      },
      "source": [
        "Let us now implement a class for NBC. We'll keep it simple and try to follow the sklearn models. We'll have an init function, fit function and predict function."
      ]
    },
    {
      "cell_type": "markdown",
      "metadata": {
        "id": "yGk2_xuaSnv2"
      },
      "source": [
        "**Hints for function fit**: Recall the joint distribution of a generative model: $p(\\mathbf{x}, y \\mid \\theta, \\pi) = p(y | \\pi) \\cdot p(\\mathbf{x} \\mid y, \\theta)$. \n",
        "The fit function will estimate the parameters for NBC based on the training data. \n",
        "Here we give you some hints how to estimate the $\\theta$ in $p(\\mathbf{x} \\mid y, \\theta)$. \n",
        "\n",
        "For each class $c$, we want to estimate the $\\theta_c$ for the distribution $p(\\mathbf{x} \\mid y = c, \\theta_c)$. \n",
        "Since the assumption of NBC that the features are conditionally independent given the class $c$, the class conditional distribution is a product of $D$ distributions, one for each feature: $p(\\mathbf{x} \\mid y = c, \\theta_c) = \\prod_{j}^{D} p(x_j \\mid y = c, \\theta_{jc})$. Hence, we need to estimate the $\\theta_{jc}$ based on the data with class $c$ and feature $j$. \n",
        "\n",
        "![alt text](pics/fit_4.png)\n"
      ]
    },
    {
      "cell_type": "markdown",
      "metadata": {
        "id": "BcBA4CBMSnv3"
      },
      "source": [
        "**Hints for function predict**: The predict function should compute the probabilities $p(y = c \\mid \\mathbf{x}_{new}, \\pi, \\theta)$ for the new inputs $\\mathbf{x}_{new}$ on all classes by applying the Bayes rule:\n",
        "\n",
        "$$p(y = c \\mid \\mathbf{x}_{new}, \\pi, \\theta) = \\frac{p(y = c \\mid \\pi_c) \\cdot p(\\mathbf{x}_{new} \\mid y=c, \\theta)}{\\sum^{C}_{c'=1}p(y=c' \\mid \\pi_{c'}) \\cdot p(\\mathbf{x}_{new} \\mid y=c', \\theta_{c'})},$$\n",
        "\n",
        "and then return the class that has the largest probability:\n",
        "\n",
        "$$y_{predict} = \\underset{c}{arg\\,\\max} \\, {p(y = c \\mid \\mathbf{x}_{new}, \\theta_c)}.$$\n",
        "\n",
        "Here we give you some hints on the computation of $p(\\mathbf{x}_{new} \\mid y=c, \\theta_c)$. \n",
        "Due to the conditional independence assumption, we have $p(\\mathbf{x}_{new} \\mid y=c, \\theta_c) = \\prod_{j}^{D} p(x^j_{new} \\mid y = c, \\theta_{jc})$. Since we have got the parameters $\\theta_{jc}$ in the fit phase,  we can use them to compute the probabilities for the new data. \n",
        "\n",
        "![alt text](pics/predict_3.png)"
      ]
    },
    {
      "cell_type": "code",
      "metadata": {
        "id": "62FNOrdPSnv4"
      },
      "source": [
        "class NBC:\n",
        "    # Inputs:\n",
        "    #   feature_types: the array of the types of the features, e.g., feature_types=['r', 'r', 'r', 'r']\n",
        "    #   num_classes: number of classes of labels\n",
        "    def __init__(self, feature_types=[], num_classes=0):\n",
        "        self.feature_types = feature_types\n",
        "        self.num_classes = num_classes\n",
        "    \n",
        "    # The function uses the input data to estimate all the parameters of the NBC\n",
        "    # You should use the parameters based on the types of the features\n",
        "    def fit(self, X, y):\n",
        "        if len(set(self.feature_types)) == 1 and 'r' in set(self.feature_types):\n",
        "           contNB = ContFeatureParam().fit(X, y)\n",
        "           self.NB = contNB\n",
        "           return contNB\n",
        "        elif len(set(self.feature_types)) == 1 and 'b' in set(self.feature_types):\n",
        "            binNB = BinFeatureParam(alpha=1).fit(np.where(X > 0, 1, 0), y)\n",
        "            self.NB = binNB\n",
        "            return binNB\n",
        "        elif len(set(self.feature_types)) == 1 and 'c' in set(self.feature_types):\n",
        "            catNB = CatFeatureParam(alpha=1).fit(X,y)\n",
        "            self.NB = catNB\n",
        "            return catNB\n",
        "                \n",
        "    # The function takes the data X as input, and predicts the class for the data\n",
        "    def predict(self, X):\n",
        "        if 'b' in set(self.feature_types):\n",
        "            y_predicted = np.where(self.NB.estimate(np.where(X > 0, 1, 0)) == 1, 'republican', 'democrat')\n",
        "        elif 'r' in set(self.feature_types):\n",
        "            y_predicted = self.NB.estimate(X)\n",
        "        elif 'c' in set(self.feature_types):\n",
        "            y_predicted = self.NB.estimate(X)\n",
        "        return y_predicted"
      ],
      "execution_count": null,
      "outputs": []
    },
    {
      "cell_type": "markdown",
      "metadata": {
        "id": "HVj0ReaDSnv5"
      },
      "source": [
        "**Implementation Issues**\n",
        "- Fell free to add auxiliary functions. \n",
        "- Don't forget to compute $p(y=c | \\pi)$ \n",
        "- Remember to do all the calculations in log space to avoid running into underflow issues. Read more: (Mur) Chapter 3.5.3\n",
        "- Your implementation should be able to handle missing values\n",
        "- As far as possible use matrix operations. So assume that Xtrain, ytrain, Xtest will all\n",
        "be numpy arrays. Try and minimise your use of python loops. (In general, looping over\n",
        "classes or features is OK, but looping over data is probably not a good idea.)\n",
        "- The variance parameter for Gaussian distributions should never be exactly 0, so in\n",
        "case your calculated variance is 0, you may want to set it to a small value such as 1e − 6.\n",
        "Note that this is essential to ensure that your code never encounters division by zero or\n",
        "taking logarithms of 0 errors. Also, you want to ensure that the estimates for the parameter for the Bernoulli or Multinoulli random variables\n",
        "is never exactly 0 or 1. For this reason you should consider using Laplace smoothing (https://en.wikipedia.org/wiki/Additive_smoothing).\n"
      ]
    },
    {
      "cell_type": "markdown",
      "metadata": {
        "id": "Gaxf_5SaSnv5"
      },
      "source": [
        "You can use the below code to do sanity check of your implementation using the iris dataset. All features of the iris dataset are continuous, so you do not need to implement all types of feature parameters to check your code. \n",
        "\n",
        "You should expect your implementation has an accuracy larger than 90%. "
      ]
    },
    {
      "cell_type": "markdown",
      "metadata": {
        "id": "zj-BK1-uSnv6"
      },
      "source": [
        "## Logistic Regression"
      ]
    },
    {
      "cell_type": "markdown",
      "metadata": {
        "id": "BpnAiMCzSnv6"
      },
      "source": [
        "For logistic regression, you should use the implementation in sklearn. Adding the following\n",
        "line will import the LR model.\n",
        "\n",
        "    from sklearn.linear_model import LogisticRegression"
      ]
    },
    {
      "cell_type": "markdown",
      "metadata": {
        "id": "zEnmWpTVSnv7"
      },
      "source": [
        "Read the information provided on the following links to understand some details about how the\n",
        "logistic regression model is implemented in scikit-learn.\n",
        "- http://scikit-learn.org/stable/modules/linear_model.html#logistic-regression\n",
        "- http://scikit-learn.org/stable/modules/generated/sklearn.linear_model.LogisticRegression.html#sklearn.linear_model.LogisticRegression\n"
      ]
    },
    {
      "cell_type": "markdown",
      "metadata": {
        "id": "8IJXxDBMSnv7"
      },
      "source": [
        "## Comparing NBC and LR"
      ]
    },
    {
      "cell_type": "markdown",
      "metadata": {
        "id": "zNxHU8BQSnv7"
      },
      "source": [
        "### Experiments\n",
        "\n",
        "You will compare the classification error of the NBC and LR trained on increasingly\n",
        "larger training datasets. Because the datasets are so small, you should do this multiple times and\n",
        "average the classification error. One run should look as follows:\n",
        "- Shuffle the data, put 20% aside for testing.\n",
        "    \n",
        "    ```N, D = X.shape\n",
        "    Ntrain = int(0.8 * N)\n",
        "    shuffler = np.random.permutation(N)\n",
        "    Xtrain = X[shuffler[:Ntrain]]\n",
        "    ytrain = y[shuffler[:Ntrain]]\n",
        "    Xtest = X[shuffler[Ntrain:]]\n",
        "    ytest = y[shuffler[Ntrain:]]\n",
        "    \n",
        "    ```  \n",
        "\n",
        "\n",
        "- Train the classifiers with increasingly more data. For example, we can train classifiers with 10%, 20%, ..., 100% of the training data. For each case store the classification errors on the test set of the classifiers.\n",
        "\n",
        "You may want to repeat this with at least 200 random permutations (possibly as large as 1000)\n",
        "to average out the test error across the runs. In the end, you will get average test errors as a\n",
        "function of the size of the training data. Plot these curves for NBC and LR on the datasets."
      ]
    },
    {
      "cell_type": "code",
      "metadata": {
        "id": "cIz2k6c4Snv7"
      },
      "source": [
        "# inputs:\n",
        "#   nbc: Naive Bayes Classifier\n",
        "#   lr: Logistic Regression Classifier\n",
        "#   X, y: data\n",
        "#   num_runs: we need repeat num_runs times and store average results\n",
        "#   num_splits: we want to compare the two models on increasingly larger training sets.\n",
        "#               num_splits defines the number of increasing steps. \n",
        "# outputs:\n",
        "#   the arrays of the test errors across the runs of the two classifiers\n",
        "\n",
        "#train classifiers with 10%, 20%, ..., 100% of the training data\n",
        "splits = [0.1, 0.2, 0.3, 0.4, 0.5, 0.6, 0.7, 0.8 , 0.9, 1]\n",
        "\n",
        "def compareNBCvsLR(nbc, lr, X, y, num_runs=200, num_splits=10):\n",
        "    tst_errs_nbc =[]\n",
        "    tst_errs_lr = []\n",
        "    for split in splits:\n",
        "        Xtrain, Xtest, ytrain, ytest = train_test_split(X, y, test_size=split, random_state=1)\n",
        "\n",
        "        NB = nbc.fit(Xtrain, ytrain)\n",
        "        lr.fit(Xtrain, ytrain)\n",
        "\n",
        "        if 'b' in set(nbc.feature_types):\n",
        "          y_nb_predicted = np.where(NB.estimate(np.where(Xtest > 0, 1, 0)) == 1, 'republican', 'democrat')\n",
        "        elif 'r' in set(nbc.feature_types):\n",
        "          y_nb_predicted = NB.estimate(Xtest)\n",
        "        elif 'c' in set(nbc.feature_types):\n",
        "          y_nb_predicted = NB.estimate(Xtest)\n",
        "\n",
        "        tst_errs_nbc.append(1-accuracy_score(ytest,y_nb_predicted))\n",
        "        tst_errs_lr.append(1-lr.score(Xtest,ytest))\n",
        "\n",
        "    return tst_errs_nbc, tst_errs_lr"
      ],
      "execution_count": null,
      "outputs": []
    },
    {
      "cell_type": "markdown",
      "metadata": {
        "id": "cVG3u-kuSnv7"
      },
      "source": [
        "The utility function below defines the function for plotting. "
      ]
    },
    {
      "cell_type": "code",
      "metadata": {
        "id": "iNvCsnOrSnv7"
      },
      "source": [
        "def makePlot(nbc_perf, lr_perf, title=None):\n",
        "    fig = plt.figure()\n",
        "    ax = fig.add_subplot(1, 1, 1)\n",
        "\n",
        "    ax.tick_params(axis='both', labelsize=20)\n",
        "\n",
        "    ax.set_xlabel('Percent of training data used', fontsize=20)\n",
        "    ax.set_ylabel('Classification Error', fontsize=20)\n",
        "    if title is not None: ax.set_title(title, fontsize=25)\n",
        "\n",
        "    xaxis_scale = [(i + 1) * 10 for i in range(10)]\n",
        "    plt.plot(xaxis_scale, nbc_perf, label='Naive Bayes')\n",
        "    plt.plot(xaxis_scale, lr_perf, label='Logistic Regression', linestyle='dashed')\n",
        "    \n",
        "    ax.legend(loc='upper right', fontsize=20)"
      ],
      "execution_count": null,
      "outputs": []
    },
    {
      "cell_type": "markdown",
      "metadata": {
        "id": "hHJDW4FvSnv8"
      },
      "source": [
        "### Datasets"
      ]
    },
    {
      "cell_type": "markdown",
      "metadata": {
        "id": "A8FFQ0JkSnv8"
      },
      "source": [
        "Tasks: For each dataset,\n",
        "1. prepare the data for the two classifiers\n",
        "2. compare the two classifiers on the dataset and generate the plots\n",
        "3. write a short report of how you prepare the data and your observations of the comparison "
      ]
    },
    {
      "cell_type": "markdown",
      "metadata": {
        "id": "zJ5BeNQPSnv8"
      },
      "source": [
        "**Dataset 1: Iris Dataset**\n",
        "\n",
        "https://scikit-learn.org/stable/auto_examples/datasets/plot_iris_dataset.html"
      ]
    },
    {
      "cell_type": "code",
      "metadata": {
        "colab": {
          "base_uri": "https://localhost:8080/"
        },
        "id": "iAnwjCmaw49w",
        "outputId": "84b94ef4-2132-4301-c2fe-521fa70c6aa3"
      },
      "source": [
        "#sanity check code\r\n",
        "from sklearn.datasets import load_iris\r\n",
        "iris = load_iris()\r\n",
        "X, y = iris['data'], iris['target']\r\n",
        "\r\n",
        "N, D = X.shape\r\n",
        "Ntrain = int(0.8 * N)\r\n",
        "shuffler = np.random.permutation(N)\r\n",
        "Xtrain = X[shuffler[:Ntrain]]\r\n",
        "ytrain = y[shuffler[:Ntrain]]\r\n",
        "Xtest = X[shuffler[Ntrain:]]\r\n",
        "ytest = y[shuffler[Ntrain:]]\r\n",
        "\r\n",
        "\r\n",
        "nbc_iris = NBC(feature_types=['r', 'r', 'r', 'r'], num_classes=3)\r\n",
        "nbc_iris.fit(Xtrain, ytrain)\r\n",
        "yhat = nbc_iris.predict(Xtest)\r\n",
        "test_accuracy = np.mean(yhat == ytest)\r\n",
        "\r\n",
        "print(\"Accuracy:\", test_accuracy)"
      ],
      "execution_count": null,
      "outputs": [
        {
          "output_type": "stream",
          "text": [
            "Accuracy: 0.9333333333333333\n"
          ],
          "name": "stdout"
        }
      ]
    },
    {
      "cell_type": "code",
      "metadata": {
        "colab": {
          "base_uri": "https://localhost:8080/",
          "height": 404
        },
        "id": "6NLjp2k0Snv8",
        "outputId": "0ec3556c-199b-485d-af0d-7ad0476a492a"
      },
      "source": [
        "from sklearn.datasets import load_iris\n",
        "from sklearn.linear_model import LogisticRegression\n",
        "from sklearn.metrics import accuracy_score\n",
        "\n",
        "iris = load_iris()\n",
        "X, y = iris['data'], iris['target']\n",
        "\n",
        "# Naive Bayes Classifier\n",
        "nbc_iris = NBC(feature_types=['r', 'r', 'r', 'r'], num_classes=3)\n",
        "\n",
        "# Logistic Regression\n",
        "contLR = LogisticRegression(random_state=0, solver=\"lbfgs\", multi_class=\"ovr\")\n",
        "\n",
        "# Compare NB and LR Results\n",
        "tst_errs_nbc, tst_errs_lr = compareNBCvsLR(nbc_iris, contLR, X, y, num_runs=200, num_splits=10)\n",
        "print(\"Iris Classification Error List: \",tst_errs_nbc, tst_errs_lr) \n",
        "\n",
        "makePlot(tst_errs_nbc, tst_errs_lr, title=None)"
      ],
      "execution_count": null,
      "outputs": [
        {
          "output_type": "stream",
          "text": [
            "/usr/local/lib/python3.6/dist-packages/ipykernel_launcher.py:14: RuntimeWarning: divide by zero encountered in log\n",
            "  \n",
            "/usr/local/lib/python3.6/dist-packages/ipykernel_launcher.py:14: RuntimeWarning: divide by zero encountered in log\n",
            "  \n"
          ],
          "name": "stderr"
        },
        {
          "output_type": "stream",
          "text": [
            "Iris Classification Error List:  [0.0, 0.033333333333333326, 0.0444444444444444, 0.050000000000000044, 0.040000000000000036, 0.0444444444444444, 0.03809523809523807, 0.06666666666666665, 0.051851851851851816, 0.0] [0.06666666666666665, 0.1333333333333333, 0.1333333333333333, 0.09999999999999998, 0.07999999999999996, 0.06666666666666665, 0.06666666666666665, 0.09166666666666667, 0.10370370370370374, 0.0]\n"
          ],
          "name": "stdout"
        },
        {
          "output_type": "display_data",
          "data": {
            "image/png": "[encoded data removed]",
            "text/plain": [
              "<Figure size 432x288 with 1 Axes>"
            ]
          },
          "metadata": {
            "tags": [],
            "needs_background": "light"
          }
        }
      ]
    },
    {
      "cell_type": "markdown",
      "metadata": {
        "id": "f4hl_SAYSnv9"
      },
      "source": [
        "**Dataset 2: Voting Dataset**\n",
        "\n",
        "https://archive.ics.uci.edu/ml/datasets/congressional+voting+records\n"
      ]
    },
    {
      "cell_type": "code",
      "metadata": {
        "colab": {
          "base_uri": "https://localhost:8080/",
          "height": 335
        },
        "id": "RUAbwBiCSnv9",
        "outputId": "d7b62688-ba09-4e49-fd4d-b6099340c25c"
      },
      "source": [
        "import pandas as pd\n",
        "import numpy as np\n",
        "\n",
        "voting = pd.read_csv('/content/drive/MyDrive/Data Science/voting.csv')\n",
        "\n",
        "# remove nan or replace\n",
        "voting = voting.dropna()\n",
        " \n",
        "# convert y/n to numeric 1/0\n",
        "mapping = { \"y\": 1, \"n\" : 0}\n",
        "votingX = voting.iloc[:,1:17].replace(mapping)\n",
        "votingY = voting[\"label\"]\n",
        "\n",
        "# Naive Bayes Classifier\n",
        "nbc_vote = NBC(feature_types=['b', 'b', 'b', 'b','b', 'b', 'b', 'b','b', 'b', 'b', 'b','b', 'b', 'b', 'b'], num_classes=2)\n",
        "\n",
        "# Logistic Regression\n",
        "contVote = LogisticRegression()\n",
        "\n",
        "# Compare NB and LR Results\n",
        "tst_errs_nbc, tst_errs_lr = compareNBCvsLR(nbc_vote, contVote, votingX,votingY, num_runs=200, num_splits=10)\n",
        "print(\"Vote Classification Error List: \",tst_errs_nbc, tst_errs_lr) \n",
        "\n",
        "makePlot(tst_errs_nbc, tst_errs_lr, title=None)"
      ],
      "execution_count": null,
      "outputs": [
        {
          "output_type": "stream",
          "text": [
            "Vote Classification Error List:  [0.08333333333333337, 0.12765957446808507, 0.08571428571428574, 0.07526881720430112, 0.08620689655172409, 0.1071428571428571, 0.09815950920245398, 0.10215053763440862, 0.10526315789473684, 0.0] [0.0, 0.04255319148936165, 0.02857142857142858, 0.032258064516129004, 0.03448275862068961, 0.05714285714285716, 0.06134969325153372, 0.06451612903225812, 0.09569377990430628, 0.0]\n"
          ],
          "name": "stdout"
        },
        {
          "output_type": "display_data",
          "data": {
            "image/png": "[encoded data removed]",
            "text/plain": [
              "<Figure size 432x288 with 1 Axes>"
            ]
          },
          "metadata": {
            "tags": [],
            "needs_background": "light"
          }
        }
      ]
    },
    {
      "cell_type": "markdown",
      "metadata": {
        "id": "3uJYvPGTSnv-"
      },
      "source": [
        "**Dataset 3: Car Evaluation Dataset**\n",
        "\n",
        "https://archive.ics.uci.edu/ml/datasets/car+evaluation"
      ]
    },
    {
      "cell_type": "code",
      "metadata": {
        "id": "dOY-kgjUjfql",
        "colab": {
          "base_uri": "https://localhost:8080/",
          "height": 1000
        },
        "outputId": "fe481811-3b9c-48ef-e2c4-577230b1cfa5"
      },
      "source": [
        "car = pd.read_csv('/content/drive/MyDrive/Data Science/car.csv')\r\n",
        "car.info()\r\n",
        "\r\n",
        "# No 'nan' to remove or replace\r\n",
        "from sklearn.preprocessing import LabelEncoder, OrdinalEncoder\r\n",
        "\r\n",
        "label_encoder = LabelEncoder()\r\n",
        "feature_encoder = OrdinalEncoder()\r\n",
        "features = ['buying', 'maint', 'doors', 'persons', 'lug_boot', 'safety']\r\n",
        "car[features] = feature_encoder.fit_transform(car[features])\r\n",
        "car['acceptability'] = label_encoder.fit_transform(car['acceptability'])\r\n",
        "\r\n",
        "carX = car.drop('acceptability',axis=1)\r\n",
        "carY = car[\"acceptability\"]\r\n",
        "\r\n",
        "# Naive Bayes Classifier\r\n",
        "nbc_car = NBC(feature_types=['c', 'c', 'c', 'c', 'c', 'c'], num_classes=4)\r\n",
        "\r\n",
        "# Logistic Regression\r\n",
        "contcar = LogisticRegression()\r\n",
        "\r\n",
        "# Compare NB and LR Results\r\n",
        "tst_errs_nbc, tst_errs_lr = compareNBCvsLR(nbc_car, contcar, carX, carY, num_runs=200, num_splits=10)\r\n",
        "print(\"Car Classification Error List: \",tst_errs_nbc, tst_errs_lr) \r\n",
        "\r\n",
        "makePlot(tst_errs_nbc, tst_errs_lr, title=None)"
      ],
      "execution_count": null,
      "outputs": [
        {
          "output_type": "stream",
          "text": [
            "<class 'pandas.core.frame.DataFrame'>\n",
            "RangeIndex: 1728 entries, 0 to 1727\n",
            "Data columns (total 7 columns):\n",
            " #   Column         Non-Null Count  Dtype \n",
            "---  ------         --------------  ----- \n",
            " 0   buying         1728 non-null   object\n",
            " 1   maint          1728 non-null   object\n",
            " 2   doors          1728 non-null   object\n",
            " 3   persons        1728 non-null   object\n",
            " 4   lug_boot       1728 non-null   object\n",
            " 5   safety         1728 non-null   object\n",
            " 6   acceptability  1728 non-null   object\n",
            "dtypes: object(7)\n",
            "memory usage: 94.6+ KB\n"
          ],
          "name": "stdout"
        },
        {
          "output_type": "stream",
          "text": [
            "/usr/local/lib/python3.6/dist-packages/pandas/core/frame.py:4174: SettingWithCopyWarning: \n",
            "A value is trying to be set on a copy of a slice from a DataFrame\n",
            "\n",
            "See the caveats in the documentation: https://pandas.pydata.org/pandas-docs/stable/user_guide/indexing.html#returning-a-view-versus-a-copy\n",
            "  errors=errors,\n",
            "/usr/local/lib/python3.6/dist-packages/pandas/core/frame.py:4174: SettingWithCopyWarning: \n",
            "A value is trying to be set on a copy of a slice from a DataFrame\n",
            "\n",
            "See the caveats in the documentation: https://pandas.pydata.org/pandas-docs/stable/user_guide/indexing.html#returning-a-view-versus-a-copy\n",
            "  errors=errors,\n",
            "/usr/local/lib/python3.6/dist-packages/pandas/core/frame.py:4174: SettingWithCopyWarning: \n",
            "A value is trying to be set on a copy of a slice from a DataFrame\n",
            "\n",
            "See the caveats in the documentation: https://pandas.pydata.org/pandas-docs/stable/user_guide/indexing.html#returning-a-view-versus-a-copy\n",
            "  errors=errors,\n",
            "/usr/local/lib/python3.6/dist-packages/pandas/core/frame.py:4174: SettingWithCopyWarning: \n",
            "A value is trying to be set on a copy of a slice from a DataFrame\n",
            "\n",
            "See the caveats in the documentation: https://pandas.pydata.org/pandas-docs/stable/user_guide/indexing.html#returning-a-view-versus-a-copy\n",
            "  errors=errors,\n",
            "/usr/local/lib/python3.6/dist-packages/pandas/core/frame.py:4174: SettingWithCopyWarning: \n",
            "A value is trying to be set on a copy of a slice from a DataFrame\n",
            "\n",
            "See the caveats in the documentation: https://pandas.pydata.org/pandas-docs/stable/user_guide/indexing.html#returning-a-view-versus-a-copy\n",
            "  errors=errors,\n",
            "/usr/local/lib/python3.6/dist-packages/pandas/core/frame.py:4174: SettingWithCopyWarning: \n",
            "A value is trying to be set on a copy of a slice from a DataFrame\n",
            "\n",
            "See the caveats in the documentation: https://pandas.pydata.org/pandas-docs/stable/user_guide/indexing.html#returning-a-view-versus-a-copy\n",
            "  errors=errors,\n",
            "/usr/local/lib/python3.6/dist-packages/pandas/core/frame.py:4174: SettingWithCopyWarning: \n",
            "A value is trying to be set on a copy of a slice from a DataFrame\n",
            "\n",
            "See the caveats in the documentation: https://pandas.pydata.org/pandas-docs/stable/user_guide/indexing.html#returning-a-view-versus-a-copy\n",
            "  errors=errors,\n",
            "/usr/local/lib/python3.6/dist-packages/pandas/core/frame.py:4174: SettingWithCopyWarning: \n",
            "A value is trying to be set on a copy of a slice from a DataFrame\n",
            "\n",
            "See the caveats in the documentation: https://pandas.pydata.org/pandas-docs/stable/user_guide/indexing.html#returning-a-view-versus-a-copy\n",
            "  errors=errors,\n",
            "/usr/local/lib/python3.6/dist-packages/pandas/core/frame.py:4174: SettingWithCopyWarning: \n",
            "A value is trying to be set on a copy of a slice from a DataFrame\n",
            "\n",
            "See the caveats in the documentation: https://pandas.pydata.org/pandas-docs/stable/user_guide/indexing.html#returning-a-view-versus-a-copy\n",
            "  errors=errors,\n",
            "/usr/local/lib/python3.6/dist-packages/pandas/core/frame.py:4174: SettingWithCopyWarning: \n",
            "A value is trying to be set on a copy of a slice from a DataFrame\n",
            "\n",
            "See the caveats in the documentation: https://pandas.pydata.org/pandas-docs/stable/user_guide/indexing.html#returning-a-view-versus-a-copy\n",
            "  errors=errors,\n",
            "/usr/local/lib/python3.6/dist-packages/pandas/core/frame.py:4174: SettingWithCopyWarning: \n",
            "A value is trying to be set on a copy of a slice from a DataFrame\n",
            "\n",
            "See the caveats in the documentation: https://pandas.pydata.org/pandas-docs/stable/user_guide/indexing.html#returning-a-view-versus-a-copy\n",
            "  errors=errors,\n",
            "/usr/local/lib/python3.6/dist-packages/pandas/core/frame.py:4174: SettingWithCopyWarning: \n",
            "A value is trying to be set on a copy of a slice from a DataFrame\n",
            "\n",
            "See the caveats in the documentation: https://pandas.pydata.org/pandas-docs/stable/user_guide/indexing.html#returning-a-view-versus-a-copy\n",
            "  errors=errors,\n",
            "/usr/local/lib/python3.6/dist-packages/pandas/core/frame.py:4174: SettingWithCopyWarning: \n",
            "A value is trying to be set on a copy of a slice from a DataFrame\n",
            "\n",
            "See the caveats in the documentation: https://pandas.pydata.org/pandas-docs/stable/user_guide/indexing.html#returning-a-view-versus-a-copy\n",
            "  errors=errors,\n",
            "/usr/local/lib/python3.6/dist-packages/pandas/core/frame.py:4174: SettingWithCopyWarning: \n",
            "A value is trying to be set on a copy of a slice from a DataFrame\n",
            "\n",
            "See the caveats in the documentation: https://pandas.pydata.org/pandas-docs/stable/user_guide/indexing.html#returning-a-view-versus-a-copy\n",
            "  errors=errors,\n",
            "/usr/local/lib/python3.6/dist-packages/pandas/core/frame.py:4174: SettingWithCopyWarning: \n",
            "A value is trying to be set on a copy of a slice from a DataFrame\n",
            "\n",
            "See the caveats in the documentation: https://pandas.pydata.org/pandas-docs/stable/user_guide/indexing.html#returning-a-view-versus-a-copy\n",
            "  errors=errors,\n",
            "/usr/local/lib/python3.6/dist-packages/pandas/core/frame.py:4174: SettingWithCopyWarning: \n",
            "A value is trying to be set on a copy of a slice from a DataFrame\n",
            "\n",
            "See the caveats in the documentation: https://pandas.pydata.org/pandas-docs/stable/user_guide/indexing.html#returning-a-view-versus-a-copy\n",
            "  errors=errors,\n",
            "/usr/local/lib/python3.6/dist-packages/pandas/core/frame.py:4174: SettingWithCopyWarning: \n",
            "A value is trying to be set on a copy of a slice from a DataFrame\n",
            "\n",
            "See the caveats in the documentation: https://pandas.pydata.org/pandas-docs/stable/user_guide/indexing.html#returning-a-view-versus-a-copy\n",
            "  errors=errors,\n",
            "/usr/local/lib/python3.6/dist-packages/pandas/core/frame.py:4174: SettingWithCopyWarning: \n",
            "A value is trying to be set on a copy of a slice from a DataFrame\n",
            "\n",
            "See the caveats in the documentation: https://pandas.pydata.org/pandas-docs/stable/user_guide/indexing.html#returning-a-view-versus-a-copy\n",
            "  errors=errors,\n",
            "/usr/local/lib/python3.6/dist-packages/pandas/core/frame.py:4174: SettingWithCopyWarning: \n",
            "A value is trying to be set on a copy of a slice from a DataFrame\n",
            "\n",
            "See the caveats in the documentation: https://pandas.pydata.org/pandas-docs/stable/user_guide/indexing.html#returning-a-view-versus-a-copy\n",
            "  errors=errors,\n",
            "/usr/local/lib/python3.6/dist-packages/pandas/core/frame.py:4174: SettingWithCopyWarning: \n",
            "A value is trying to be set on a copy of a slice from a DataFrame\n",
            "\n",
            "See the caveats in the documentation: https://pandas.pydata.org/pandas-docs/stable/user_guide/indexing.html#returning-a-view-versus-a-copy\n",
            "  errors=errors,\n",
            "/usr/local/lib/python3.6/dist-packages/pandas/core/frame.py:4174: SettingWithCopyWarning: \n",
            "A value is trying to be set on a copy of a slice from a DataFrame\n",
            "\n",
            "See the caveats in the documentation: https://pandas.pydata.org/pandas-docs/stable/user_guide/indexing.html#returning-a-view-versus-a-copy\n",
            "  errors=errors,\n",
            "/usr/local/lib/python3.6/dist-packages/pandas/core/frame.py:4174: SettingWithCopyWarning: \n",
            "A value is trying to be set on a copy of a slice from a DataFrame\n",
            "\n",
            "See the caveats in the documentation: https://pandas.pydata.org/pandas-docs/stable/user_guide/indexing.html#returning-a-view-versus-a-copy\n",
            "  errors=errors,\n",
            "/usr/local/lib/python3.6/dist-packages/pandas/core/frame.py:4174: SettingWithCopyWarning: \n",
            "A value is trying to be set on a copy of a slice from a DataFrame\n",
            "\n",
            "See the caveats in the documentation: https://pandas.pydata.org/pandas-docs/stable/user_guide/indexing.html#returning-a-view-versus-a-copy\n",
            "  errors=errors,\n",
            "/usr/local/lib/python3.6/dist-packages/pandas/core/frame.py:4174: SettingWithCopyWarning: \n",
            "A value is trying to be set on a copy of a slice from a DataFrame\n",
            "\n",
            "See the caveats in the documentation: https://pandas.pydata.org/pandas-docs/stable/user_guide/indexing.html#returning-a-view-versus-a-copy\n",
            "  errors=errors,\n",
            "/usr/local/lib/python3.6/dist-packages/pandas/core/frame.py:4174: SettingWithCopyWarning: \n",
            "A value is trying to be set on a copy of a slice from a DataFrame\n",
            "\n",
            "See the caveats in the documentation: https://pandas.pydata.org/pandas-docs/stable/user_guide/indexing.html#returning-a-view-versus-a-copy\n",
            "  errors=errors,\n",
            "/usr/local/lib/python3.6/dist-packages/pandas/core/frame.py:4174: SettingWithCopyWarning: \n",
            "A value is trying to be set on a copy of a slice from a DataFrame\n",
            "\n",
            "See the caveats in the documentation: https://pandas.pydata.org/pandas-docs/stable/user_guide/indexing.html#returning-a-view-versus-a-copy\n",
            "  errors=errors,\n",
            "/usr/local/lib/python3.6/dist-packages/pandas/core/frame.py:4174: SettingWithCopyWarning: \n",
            "A value is trying to be set on a copy of a slice from a DataFrame\n",
            "\n",
            "See the caveats in the documentation: https://pandas.pydata.org/pandas-docs/stable/user_guide/indexing.html#returning-a-view-versus-a-copy\n",
            "  errors=errors,\n",
            "/usr/local/lib/python3.6/dist-packages/pandas/core/frame.py:4174: SettingWithCopyWarning: \n",
            "A value is trying to be set on a copy of a slice from a DataFrame\n",
            "\n",
            "See the caveats in the documentation: https://pandas.pydata.org/pandas-docs/stable/user_guide/indexing.html#returning-a-view-versus-a-copy\n",
            "  errors=errors,\n",
            "/usr/local/lib/python3.6/dist-packages/pandas/core/frame.py:4174: SettingWithCopyWarning: \n",
            "A value is trying to be set on a copy of a slice from a DataFrame\n",
            "\n",
            "See the caveats in the documentation: https://pandas.pydata.org/pandas-docs/stable/user_guide/indexing.html#returning-a-view-versus-a-copy\n",
            "  errors=errors,\n",
            "/usr/local/lib/python3.6/dist-packages/pandas/core/frame.py:4174: SettingWithCopyWarning: \n",
            "A value is trying to be set on a copy of a slice from a DataFrame\n",
            "\n",
            "See the caveats in the documentation: https://pandas.pydata.org/pandas-docs/stable/user_guide/indexing.html#returning-a-view-versus-a-copy\n",
            "  errors=errors,\n",
            "/usr/local/lib/python3.6/dist-packages/pandas/core/frame.py:4174: SettingWithCopyWarning: \n",
            "A value is trying to be set on a copy of a slice from a DataFrame\n",
            "\n",
            "See the caveats in the documentation: https://pandas.pydata.org/pandas-docs/stable/user_guide/indexing.html#returning-a-view-versus-a-copy\n",
            "  errors=errors,\n",
            "/usr/local/lib/python3.6/dist-packages/pandas/core/frame.py:4174: SettingWithCopyWarning: \n",
            "A value is trying to be set on a copy of a slice from a DataFrame\n",
            "\n",
            "See the caveats in the documentation: https://pandas.pydata.org/pandas-docs/stable/user_guide/indexing.html#returning-a-view-versus-a-copy\n",
            "  errors=errors,\n",
            "/usr/local/lib/python3.6/dist-packages/pandas/core/frame.py:4174: SettingWithCopyWarning: \n",
            "A value is trying to be set on a copy of a slice from a DataFrame\n",
            "\n",
            "See the caveats in the documentation: https://pandas.pydata.org/pandas-docs/stable/user_guide/indexing.html#returning-a-view-versus-a-copy\n",
            "  errors=errors,\n",
            "/usr/local/lib/python3.6/dist-packages/pandas/core/frame.py:4174: SettingWithCopyWarning: \n",
            "A value is trying to be set on a copy of a slice from a DataFrame\n",
            "\n",
            "See the caveats in the documentation: https://pandas.pydata.org/pandas-docs/stable/user_guide/indexing.html#returning-a-view-versus-a-copy\n",
            "  errors=errors,\n",
            "/usr/local/lib/python3.6/dist-packages/pandas/core/frame.py:4174: SettingWithCopyWarning: \n",
            "A value is trying to be set on a copy of a slice from a DataFrame\n",
            "\n",
            "See the caveats in the documentation: https://pandas.pydata.org/pandas-docs/stable/user_guide/indexing.html#returning-a-view-versus-a-copy\n",
            "  errors=errors,\n",
            "/usr/local/lib/python3.6/dist-packages/pandas/core/frame.py:4174: SettingWithCopyWarning: \n",
            "A value is trying to be set on a copy of a slice from a DataFrame\n",
            "\n",
            "See the caveats in the documentation: https://pandas.pydata.org/pandas-docs/stable/user_guide/indexing.html#returning-a-view-versus-a-copy\n",
            "  errors=errors,\n",
            "/usr/local/lib/python3.6/dist-packages/pandas/core/frame.py:4174: SettingWithCopyWarning: \n",
            "A value is trying to be set on a copy of a slice from a DataFrame\n",
            "\n",
            "See the caveats in the documentation: https://pandas.pydata.org/pandas-docs/stable/user_guide/indexing.html#returning-a-view-versus-a-copy\n",
            "  errors=errors,\n",
            "/usr/local/lib/python3.6/dist-packages/pandas/core/frame.py:4174: SettingWithCopyWarning: \n",
            "A value is trying to be set on a copy of a slice from a DataFrame\n",
            "\n",
            "See the caveats in the documentation: https://pandas.pydata.org/pandas-docs/stable/user_guide/indexing.html#returning-a-view-versus-a-copy\n",
            "  errors=errors,\n",
            "/usr/local/lib/python3.6/dist-packages/pandas/core/frame.py:4174: SettingWithCopyWarning: \n",
            "A value is trying to be set on a copy of a slice from a DataFrame\n",
            "\n",
            "See the caveats in the documentation: https://pandas.pydata.org/pandas-docs/stable/user_guide/indexing.html#returning-a-view-versus-a-copy\n",
            "  errors=errors,\n",
            "/usr/local/lib/python3.6/dist-packages/pandas/core/frame.py:4174: SettingWithCopyWarning: \n",
            "A value is trying to be set on a copy of a slice from a DataFrame\n",
            "\n",
            "See the caveats in the documentation: https://pandas.pydata.org/pandas-docs/stable/user_guide/indexing.html#returning-a-view-versus-a-copy\n",
            "  errors=errors,\n"
          ],
          "name": "stderr"
        },
        {
          "output_type": "stream",
          "text": [
            "Car Classification Error List:  [0.8439306358381503, 0.24855491329479773, 0.7938342967244701, 0.7875722543352601, 0.7800925925925926, 0.7830279652844745, 0.7859504132231405, 0.7736804049168474, 0.9601542416452442, 1.0] [0.2601156069364162, 0.2832369942196532, 0.3102119460500964, 0.30202312138728327, 0.3090277777777778, 0.32015429122468664, 0.3090909090909091, 0.3239334779464931, 0.3316195372750642, 0.0]\n"
          ],
          "name": "stdout"
        },
        {
          "output_type": "display_data",
          "data": {
            "image/png": "[encoded data removed]",
            "text/plain": [
              "<Figure size 432x288 with 1 Axes>"
            ]
          },
          "metadata": {
            "tags": [],
            "needs_background": "light"
          }
        }
      ]
    },
    {
      "cell_type": "markdown",
      "metadata": {
        "id": "aycsn7pZSnv-"
      },
      "source": [
        "**Dataset 4: Breast Cancer Dataset**\n",
        "\n",
        "https://archive.ics.uci.edu/ml/datasets/breast+cancer"
      ]
    },
    {
      "cell_type": "code",
      "metadata": {
        "colab": {
          "base_uri": "https://localhost:8080/"
        },
        "id": "DaKRsD7BSnv-",
        "outputId": "0c456eaa-0155-4c8c-e55c-c42c528aa5c2"
      },
      "source": [
        "cancer = pd.read_csv('/content/drive/MyDrive/Data Science/breast-cancer.csv')\n",
        "\n",
        "cancer = cancer.replace('?',np.nan)\n",
        "cancer = cancer.dropna()\n",
        "\n",
        "print('Categories - age')\n",
        "print(cancer['age'].value_counts())\n",
        "print('\\n')\n",
        "print('Categories - menopause')\n",
        "print(cancer['menopause'].value_counts())\n",
        "print('\\n')\n",
        "print('Categories - tumor-size')\n",
        "print(cancer['tumor-size'].value_counts())\n",
        "print('\\n')\n",
        "print('Categories - inv-nodes')\n",
        "print(cancer['inv-nodes'].value_counts())\n",
        "print('\\n')\n",
        "print('Categories - node-caps')\n",
        "print(cancer['node-caps'].value_counts())\n",
        "print('\\n')\n",
        "print('Categories - deg-malig')\n",
        "print(cancer['deg-malig'].value_counts())\n",
        "print('\\n')\n",
        "print('Categories - breast')\n",
        "print(cancer['breast'].value_counts())\n",
        "print('\\n')\n",
        "print('Categories - breast-quad')\n",
        "print(cancer['breast-quad'].value_counts())\n",
        "print('\\n')\n",
        "print('Categories - irradiat')\n",
        "print(cancer['irradiat'].value_counts())\n",
        "print('\\n')\n",
        "print('Categories - Class')\n",
        "print(cancer['Class'].value_counts())\n",
        "print('\\n')"
      ],
      "execution_count": null,
      "outputs": [
        {
          "output_type": "stream",
          "text": [
            "Categories - age\n",
            "50-59    91\n",
            "40-49    89\n",
            "60-69    55\n",
            "30-39    36\n",
            "70-79     5\n",
            "20-29     1\n",
            "Name: age, dtype: int64\n",
            "\n",
            "\n",
            "Categories - menopause\n",
            "premeno    149\n",
            "ge40       123\n",
            "lt40         5\n",
            "Name: menopause, dtype: int64\n",
            "\n",
            "\n",
            "Categories - tumor-size\n",
            "30-34    57\n",
            "25-29    51\n",
            "20-24    48\n",
            "15-19    29\n",
            "10-14    28\n",
            "40-44    22\n",
            "35-39    19\n",
            "50-54     8\n",
            "0-4       8\n",
            "5-9       4\n",
            "45-49     3\n",
            "Name: tumor-size, dtype: int64\n",
            "\n",
            "\n",
            "Categories - inv-nodes\n",
            "0-2      209\n",
            "3-5       34\n",
            "6-8       17\n",
            "9-11       7\n",
            "15-17      6\n",
            "12-14      3\n",
            "24-26      1\n",
            "Name: inv-nodes, dtype: int64\n",
            "\n",
            "\n",
            "Categories - node-caps\n",
            "no     221\n",
            "yes     56\n",
            "Name: node-caps, dtype: int64\n",
            "\n",
            "\n",
            "Categories - deg-malig\n",
            "2    129\n",
            "3     82\n",
            "1     66\n",
            "Name: deg-malig, dtype: int64\n",
            "\n",
            "\n",
            "Categories - breast\n",
            "left     145\n",
            "right    132\n",
            "Name: breast, dtype: int64\n",
            "\n",
            "\n",
            "Categories - breast-quad\n",
            "left_low     106\n",
            "left_up       94\n",
            "right_up      33\n",
            "right_low     23\n",
            "central       21\n",
            "Name: breast-quad, dtype: int64\n",
            "\n",
            "\n",
            "Categories - irradiat\n",
            "no     215\n",
            "yes     62\n",
            "Name: irradiat, dtype: int64\n",
            "\n",
            "\n",
            "Categories - Class\n",
            "no-recurrence-events    196\n",
            "recurrence-events        81\n",
            "Name: Class, dtype: int64\n",
            "\n",
            "\n"
          ],
          "name": "stdout"
        }
      ]
    },
    {
      "cell_type": "code",
      "metadata": {
        "id": "m7vQG7JnI_xY"
      },
      "source": [
        "#change categories to numbers\r\n",
        "from sklearn.preprocessing import LabelEncoder, LabelBinarizer, OneHotEncoder\r\n",
        "\r\n",
        "label_encoder = LabelEncoder()\r\n",
        "\r\n",
        "cancer['age'] = label_encoder.fit_transform(cancer['age'])\r\n",
        "cancer['tumor-size'] = label_encoder.fit_transform(cancer['tumor-size'])\r\n",
        "cancer['inv-nodes'] = label_encoder.fit_transform(cancer['inv-nodes'])\r\n",
        "cancer['irradiat'] = label_encoder.fit_transform(cancer['irradiat'])\r\n",
        "\r\n",
        "label_binarizer = LabelBinarizer()\r\n",
        "cancer['node-caps'] = label_binarizer.fit_transform(cancer['node-caps'].astype(str))\r\n",
        "cancer['breast'] = label_binarizer.fit_transform(cancer['breast'])\r\n",
        "cancer['Class'] = label_binarizer.fit_transform(cancer['Class'])\r\n",
        "\r\n",
        "one_hot_encoder = OneHotEncoder()\r\n",
        "onehot_menopause = one_hot_encoder.fit_transform(cancer[['menopause']]).toarray()\r\n",
        "onehot_breastquad = one_hot_encoder.fit_transform(cancer[['breast-quad']]).toarray()\r\n",
        "cancer['menopause'] = onehot_menopause.tolist()\r\n",
        "cancer['breast-quad'] = onehot_breastquad.tolist()"
      ],
      "execution_count": null,
      "outputs": []
    },
    {
      "cell_type": "code",
      "metadata": {
        "id": "6YwYfRAwWnjU",
        "colab": {
          "base_uri": "https://localhost:8080/",
          "height": 467
        },
        "outputId": "89a77133-15f1-4d7f-f321-41a5e61f12d7"
      },
      "source": [
        "cancerX = cancer.drop('Class',axis=1)\r\n",
        "cancerY = cancer[\"Class\"]\r\n",
        "\r\n",
        "# Naive Bayes Classifier\r\n",
        "nbc_cancer = NBC(feature_types=['c', 'c', 'c', 'c', 'b', 'c', 'b', 'c', 'c'], num_classes=2)\r\n",
        "\r\n",
        "# Logistic Regression\r\n",
        "contcancer = LogisticRegression()\r\n",
        "\r\n",
        "# Compare NB and LR Results\r\n",
        "tst_errs_nbc, tst_errs_lr = compareNBCvsLR(nbc_cancer, contcancer, cancerX, cancerY, num_runs=200, num_splits=10)\r\n",
        "print(\"Cancer Classification Error List: \",tst_errs_nbc, tst_errs_lr) \r\n",
        "\r\n",
        "makePlot(tst_errs_nbc, tst_errs_lr, title=None)\r\n",
        "\r\n",
        "\r\n",
        "X = cancer.iloc[:, 1:-1].values\r\n",
        "y = cancer.Class\r\n",
        "X_train, X_test, y_train, y_test = train_test_split(X, y, test_size = 0.25, random_state = 0)\r\n",
        "\r\n",
        "nb = CatFeatureParam(alpha=1).fit(X_train, y_train)"
      ],
      "execution_count": null,
      "outputs": [
        {
          "output_type": "error",
          "ename": "ValueError",
          "evalue": "ignored",
          "traceback": [
            "\u001b[0;31m---------------------------------------------------------------------------\u001b[0m",
            "\u001b[0;31mTypeError\u001b[0m                                 Traceback (most recent call last)",
            "\u001b[0;31mTypeError\u001b[0m: float() argument must be a string or a number, not 'list'",
            "\nThe above exception was the direct cause of the following exception:\n",
            "\u001b[0;31mValueError\u001b[0m                                Traceback (most recent call last)",
            "\u001b[0;32m<ipython-input-27-5d0ecffe9030>\u001b[0m in \u001b[0;36m<module>\u001b[0;34m()\u001b[0m\n\u001b[1;32m      9\u001b[0m \u001b[0;34m\u001b[0m\u001b[0m\n\u001b[1;32m     10\u001b[0m \u001b[0;31m# Compare NB and LR Results\u001b[0m\u001b[0;34m\u001b[0m\u001b[0;34m\u001b[0m\u001b[0;34m\u001b[0m\u001b[0m\n\u001b[0;32m---> 11\u001b[0;31m \u001b[0mtst_errs_nbc\u001b[0m\u001b[0;34m,\u001b[0m \u001b[0mtst_errs_lr\u001b[0m \u001b[0;34m=\u001b[0m \u001b[0mcompareNBCvsLR\u001b[0m\u001b[0;34m(\u001b[0m\u001b[0mnbc_cancer\u001b[0m\u001b[0;34m,\u001b[0m \u001b[0mcontcancer\u001b[0m\u001b[0;34m,\u001b[0m \u001b[0mcancerX\u001b[0m\u001b[0;34m,\u001b[0m \u001b[0mcancerY\u001b[0m\u001b[0;34m,\u001b[0m \u001b[0mnum_runs\u001b[0m\u001b[0;34m=\u001b[0m\u001b[0;36m200\u001b[0m\u001b[0;34m,\u001b[0m \u001b[0mnum_splits\u001b[0m\u001b[0;34m=\u001b[0m\u001b[0;36m10\u001b[0m\u001b[0;34m)\u001b[0m\u001b[0;34m\u001b[0m\u001b[0;34m\u001b[0m\u001b[0m\n\u001b[0m\u001b[1;32m     12\u001b[0m \u001b[0mprint\u001b[0m\u001b[0;34m(\u001b[0m\u001b[0;34m\"Cancer Classification Error List: \"\u001b[0m\u001b[0;34m,\u001b[0m\u001b[0mtst_errs_nbc\u001b[0m\u001b[0;34m,\u001b[0m \u001b[0mtst_errs_lr\u001b[0m\u001b[0;34m)\u001b[0m\u001b[0;34m\u001b[0m\u001b[0;34m\u001b[0m\u001b[0m\n\u001b[1;32m     13\u001b[0m \u001b[0;34m\u001b[0m\u001b[0m\n",
            "\u001b[0;32m<ipython-input-21-2f937cec6778>\u001b[0m in \u001b[0;36mcompareNBCvsLR\u001b[0;34m(nbc, lr, X, y, num_runs, num_splits)\u001b[0m\n\u001b[1;32m     19\u001b[0m \u001b[0;34m\u001b[0m\u001b[0m\n\u001b[1;32m     20\u001b[0m         \u001b[0mNB\u001b[0m \u001b[0;34m=\u001b[0m \u001b[0mnbc\u001b[0m\u001b[0;34m.\u001b[0m\u001b[0mfit\u001b[0m\u001b[0;34m(\u001b[0m\u001b[0mXtrain\u001b[0m\u001b[0;34m,\u001b[0m \u001b[0mytrain\u001b[0m\u001b[0;34m)\u001b[0m\u001b[0;34m\u001b[0m\u001b[0;34m\u001b[0m\u001b[0m\n\u001b[0;32m---> 21\u001b[0;31m         \u001b[0mlr\u001b[0m\u001b[0;34m.\u001b[0m\u001b[0mfit\u001b[0m\u001b[0;34m(\u001b[0m\u001b[0mXtrain\u001b[0m\u001b[0;34m,\u001b[0m \u001b[0mytrain\u001b[0m\u001b[0;34m)\u001b[0m\u001b[0;34m\u001b[0m\u001b[0;34m\u001b[0m\u001b[0m\n\u001b[0m\u001b[1;32m     22\u001b[0m \u001b[0;34m\u001b[0m\u001b[0m\n\u001b[1;32m     23\u001b[0m         \u001b[0;32mif\u001b[0m \u001b[0;34m'b'\u001b[0m \u001b[0;32min\u001b[0m \u001b[0mset\u001b[0m\u001b[0;34m(\u001b[0m\u001b[0mnbc\u001b[0m\u001b[0;34m.\u001b[0m\u001b[0mfeature_types\u001b[0m\u001b[0;34m)\u001b[0m\u001b[0;34m:\u001b[0m\u001b[0;34m\u001b[0m\u001b[0;34m\u001b[0m\u001b[0m\n",
            "\u001b[0;32m/usr/local/lib/python3.6/dist-packages/sklearn/linear_model/_logistic.py\u001b[0m in \u001b[0;36mfit\u001b[0;34m(self, X, y, sample_weight)\u001b[0m\n\u001b[1;32m   1525\u001b[0m \u001b[0;34m\u001b[0m\u001b[0m\n\u001b[1;32m   1526\u001b[0m         X, y = check_X_y(X, y, accept_sparse='csr', dtype=_dtype, order=\"C\",\n\u001b[0;32m-> 1527\u001b[0;31m                          accept_large_sparse=solver != 'liblinear')\n\u001b[0m\u001b[1;32m   1528\u001b[0m         \u001b[0mcheck_classification_targets\u001b[0m\u001b[0;34m(\u001b[0m\u001b[0my\u001b[0m\u001b[0;34m)\u001b[0m\u001b[0;34m\u001b[0m\u001b[0;34m\u001b[0m\u001b[0m\n\u001b[1;32m   1529\u001b[0m         \u001b[0mself\u001b[0m\u001b[0;34m.\u001b[0m\u001b[0mclasses_\u001b[0m \u001b[0;34m=\u001b[0m \u001b[0mnp\u001b[0m\u001b[0;34m.\u001b[0m\u001b[0munique\u001b[0m\u001b[0;34m(\u001b[0m\u001b[0my\u001b[0m\u001b[0;34m)\u001b[0m\u001b[0;34m\u001b[0m\u001b[0;34m\u001b[0m\u001b[0m\n",
            "\u001b[0;32m/usr/local/lib/python3.6/dist-packages/sklearn/utils/validation.py\u001b[0m in \u001b[0;36mcheck_X_y\u001b[0;34m(X, y, accept_sparse, accept_large_sparse, dtype, order, copy, force_all_finite, ensure_2d, allow_nd, multi_output, ensure_min_samples, ensure_min_features, y_numeric, warn_on_dtype, estimator)\u001b[0m\n\u001b[1;32m    753\u001b[0m                     \u001b[0mensure_min_features\u001b[0m\u001b[0;34m=\u001b[0m\u001b[0mensure_min_features\u001b[0m\u001b[0;34m,\u001b[0m\u001b[0;34m\u001b[0m\u001b[0;34m\u001b[0m\u001b[0m\n\u001b[1;32m    754\u001b[0m                     \u001b[0mwarn_on_dtype\u001b[0m\u001b[0;34m=\u001b[0m\u001b[0mwarn_on_dtype\u001b[0m\u001b[0;34m,\u001b[0m\u001b[0;34m\u001b[0m\u001b[0;34m\u001b[0m\u001b[0m\n\u001b[0;32m--> 755\u001b[0;31m                     estimator=estimator)\n\u001b[0m\u001b[1;32m    756\u001b[0m     \u001b[0;32mif\u001b[0m \u001b[0mmulti_output\u001b[0m\u001b[0;34m:\u001b[0m\u001b[0;34m\u001b[0m\u001b[0;34m\u001b[0m\u001b[0m\n\u001b[1;32m    757\u001b[0m         y = check_array(y, 'csr', force_all_finite=True, ensure_2d=False,\n",
            "\u001b[0;32m/usr/local/lib/python3.6/dist-packages/sklearn/utils/validation.py\u001b[0m in \u001b[0;36mcheck_array\u001b[0;34m(array, accept_sparse, accept_large_sparse, dtype, order, copy, force_all_finite, ensure_2d, allow_nd, ensure_min_samples, ensure_min_features, warn_on_dtype, estimator)\u001b[0m\n\u001b[1;32m    529\u001b[0m                     \u001b[0marray\u001b[0m \u001b[0;34m=\u001b[0m \u001b[0marray\u001b[0m\u001b[0;34m.\u001b[0m\u001b[0mastype\u001b[0m\u001b[0;34m(\u001b[0m\u001b[0mdtype\u001b[0m\u001b[0;34m,\u001b[0m \u001b[0mcasting\u001b[0m\u001b[0;34m=\u001b[0m\u001b[0;34m\"unsafe\"\u001b[0m\u001b[0;34m,\u001b[0m \u001b[0mcopy\u001b[0m\u001b[0;34m=\u001b[0m\u001b[0;32mFalse\u001b[0m\u001b[0;34m)\u001b[0m\u001b[0;34m\u001b[0m\u001b[0;34m\u001b[0m\u001b[0m\n\u001b[1;32m    530\u001b[0m                 \u001b[0;32melse\u001b[0m\u001b[0;34m:\u001b[0m\u001b[0;34m\u001b[0m\u001b[0;34m\u001b[0m\u001b[0m\n\u001b[0;32m--> 531\u001b[0;31m                     \u001b[0marray\u001b[0m \u001b[0;34m=\u001b[0m \u001b[0mnp\u001b[0m\u001b[0;34m.\u001b[0m\u001b[0masarray\u001b[0m\u001b[0;34m(\u001b[0m\u001b[0marray\u001b[0m\u001b[0;34m,\u001b[0m \u001b[0morder\u001b[0m\u001b[0;34m=\u001b[0m\u001b[0morder\u001b[0m\u001b[0;34m,\u001b[0m \u001b[0mdtype\u001b[0m\u001b[0;34m=\u001b[0m\u001b[0mdtype\u001b[0m\u001b[0;34m)\u001b[0m\u001b[0;34m\u001b[0m\u001b[0;34m\u001b[0m\u001b[0m\n\u001b[0m\u001b[1;32m    532\u001b[0m             \u001b[0;32mexcept\u001b[0m \u001b[0mComplexWarning\u001b[0m\u001b[0;34m:\u001b[0m\u001b[0;34m\u001b[0m\u001b[0;34m\u001b[0m\u001b[0m\n\u001b[1;32m    533\u001b[0m                 raise ValueError(\"Complex data not supported\\n\"\n",
            "\u001b[0;32m/usr/local/lib/python3.6/dist-packages/numpy/core/_asarray.py\u001b[0m in \u001b[0;36masarray\u001b[0;34m(a, dtype, order)\u001b[0m\n\u001b[1;32m     81\u001b[0m \u001b[0;34m\u001b[0m\u001b[0m\n\u001b[1;32m     82\u001b[0m     \"\"\"\n\u001b[0;32m---> 83\u001b[0;31m     \u001b[0;32mreturn\u001b[0m \u001b[0marray\u001b[0m\u001b[0;34m(\u001b[0m\u001b[0ma\u001b[0m\u001b[0;34m,\u001b[0m \u001b[0mdtype\u001b[0m\u001b[0;34m,\u001b[0m \u001b[0mcopy\u001b[0m\u001b[0;34m=\u001b[0m\u001b[0;32mFalse\u001b[0m\u001b[0;34m,\u001b[0m \u001b[0morder\u001b[0m\u001b[0;34m=\u001b[0m\u001b[0morder\u001b[0m\u001b[0;34m)\u001b[0m\u001b[0;34m\u001b[0m\u001b[0;34m\u001b[0m\u001b[0m\n\u001b[0m\u001b[1;32m     84\u001b[0m \u001b[0;34m\u001b[0m\u001b[0m\n\u001b[1;32m     85\u001b[0m \u001b[0;34m\u001b[0m\u001b[0m\n",
            "\u001b[0;32m/usr/local/lib/python3.6/dist-packages/pandas/core/generic.py\u001b[0m in \u001b[0;36m__array__\u001b[0;34m(self, dtype)\u001b[0m\n\u001b[1;32m   1779\u001b[0m \u001b[0;34m\u001b[0m\u001b[0m\n\u001b[1;32m   1780\u001b[0m     \u001b[0;32mdef\u001b[0m \u001b[0m__array__\u001b[0m\u001b[0;34m(\u001b[0m\u001b[0mself\u001b[0m\u001b[0;34m,\u001b[0m \u001b[0mdtype\u001b[0m\u001b[0;34m=\u001b[0m\u001b[0;32mNone\u001b[0m\u001b[0;34m)\u001b[0m \u001b[0;34m->\u001b[0m \u001b[0mnp\u001b[0m\u001b[0;34m.\u001b[0m\u001b[0mndarray\u001b[0m\u001b[0;34m:\u001b[0m\u001b[0;34m\u001b[0m\u001b[0;34m\u001b[0m\u001b[0m\n\u001b[0;32m-> 1781\u001b[0;31m         \u001b[0;32mreturn\u001b[0m \u001b[0mnp\u001b[0m\u001b[0;34m.\u001b[0m\u001b[0masarray\u001b[0m\u001b[0;34m(\u001b[0m\u001b[0mself\u001b[0m\u001b[0;34m.\u001b[0m\u001b[0m_values\u001b[0m\u001b[0;34m,\u001b[0m \u001b[0mdtype\u001b[0m\u001b[0;34m=\u001b[0m\u001b[0mdtype\u001b[0m\u001b[0;34m)\u001b[0m\u001b[0;34m\u001b[0m\u001b[0;34m\u001b[0m\u001b[0m\n\u001b[0m\u001b[1;32m   1782\u001b[0m \u001b[0;34m\u001b[0m\u001b[0m\n\u001b[1;32m   1783\u001b[0m     \u001b[0;32mdef\u001b[0m \u001b[0m__array_wrap__\u001b[0m\u001b[0;34m(\u001b[0m\u001b[0mself\u001b[0m\u001b[0;34m,\u001b[0m \u001b[0mresult\u001b[0m\u001b[0;34m,\u001b[0m \u001b[0mcontext\u001b[0m\u001b[0;34m=\u001b[0m\u001b[0;32mNone\u001b[0m\u001b[0;34m)\u001b[0m\u001b[0;34m:\u001b[0m\u001b[0;34m\u001b[0m\u001b[0;34m\u001b[0m\u001b[0m\n",
            "\u001b[0;32m/usr/local/lib/python3.6/dist-packages/numpy/core/_asarray.py\u001b[0m in \u001b[0;36masarray\u001b[0;34m(a, dtype, order)\u001b[0m\n\u001b[1;32m     81\u001b[0m \u001b[0;34m\u001b[0m\u001b[0m\n\u001b[1;32m     82\u001b[0m     \"\"\"\n\u001b[0;32m---> 83\u001b[0;31m     \u001b[0;32mreturn\u001b[0m \u001b[0marray\u001b[0m\u001b[0;34m(\u001b[0m\u001b[0ma\u001b[0m\u001b[0;34m,\u001b[0m \u001b[0mdtype\u001b[0m\u001b[0;34m,\u001b[0m \u001b[0mcopy\u001b[0m\u001b[0;34m=\u001b[0m\u001b[0;32mFalse\u001b[0m\u001b[0;34m,\u001b[0m \u001b[0morder\u001b[0m\u001b[0;34m=\u001b[0m\u001b[0morder\u001b[0m\u001b[0;34m)\u001b[0m\u001b[0;34m\u001b[0m\u001b[0;34m\u001b[0m\u001b[0m\n\u001b[0m\u001b[1;32m     84\u001b[0m \u001b[0;34m\u001b[0m\u001b[0m\n\u001b[1;32m     85\u001b[0m \u001b[0;34m\u001b[0m\u001b[0m\n",
            "\u001b[0;31mValueError\u001b[0m: setting an array element with a sequence."
          ]
        }
      ]
    },
    {
      "cell_type": "markdown",
      "metadata": {
        "id": "LfB6I977Snv-"
      },
      "source": [
        "**Dataset 5: Ionosphere Dataset**\n",
        "\n",
        "https://archive.ics.uci.edu/ml/datasets/ionosphere"
      ]
    },
    {
      "cell_type": "code",
      "metadata": {
        "id": "CFXMBjPaSnv_",
        "colab": {
          "base_uri": "https://localhost:8080/",
          "height": 381
        },
        "outputId": "169366fc-3e8a-47ff-806d-45c7fe46a338"
      },
      "source": [
        "ionosphere = pd.read_csv('/content/drive/MyDrive/Data Science/ionosphere.csv')\n",
        "\n",
        "#from sklearn.preprocessing import MinMaxScaler, StandardScaler\n",
        "ionosphere = ionosphere.drop('feature2',axis=1)\n",
        "ionosphere['label'] = label_encoder.fit_transform(ionosphere['label'])\n",
        "\n",
        "ionosphereX = ionosphere.drop('label',axis=1)\n",
        "ionosphereY = ionosphere[\"label\"]\n",
        "\n",
        "# Naive Bayes Classifier\n",
        "nbc_ionosphere = NBC(feature_types=['b', ['r'] * 33], num_classes=2)\n",
        "\n",
        "# Logistic Regression\n",
        "contionosphere = LogisticRegression()\n",
        "\n",
        "# Compare NB and LR Results\n",
        "tst_errs_nbc, tst_errs_lr = compareNBCvsLR(nbc_ionosphere, contionosphere, ionosphereX, ionosphereY, num_runs=200, num_splits=10)\n",
        "print(\"Ionosphere Classification Error List: \",tst_errs_nbc, tst_errs_lr) \n",
        "\n",
        "makePlot(tst_errs_nbc, tst_errs_lr, title=None)"
      ],
      "execution_count": null,
      "outputs": [
        {
          "output_type": "error",
          "ename": "TypeError",
          "evalue": "ignored",
          "traceback": [
            "\u001b[0;31m---------------------------------------------------------------------------\u001b[0m",
            "\u001b[0;31mTypeError\u001b[0m                                 Traceback (most recent call last)",
            "\u001b[0;32m<ipython-input-28-729e8a317975>\u001b[0m in \u001b[0;36m<module>\u001b[0;34m()\u001b[0m\n\u001b[1;32m     15\u001b[0m \u001b[0;34m\u001b[0m\u001b[0m\n\u001b[1;32m     16\u001b[0m \u001b[0;31m# Compare NB and LR Results\u001b[0m\u001b[0;34m\u001b[0m\u001b[0;34m\u001b[0m\u001b[0;34m\u001b[0m\u001b[0m\n\u001b[0;32m---> 17\u001b[0;31m \u001b[0mtst_errs_nbc\u001b[0m\u001b[0;34m,\u001b[0m \u001b[0mtst_errs_lr\u001b[0m \u001b[0;34m=\u001b[0m \u001b[0mcompareNBCvsLR\u001b[0m\u001b[0;34m(\u001b[0m\u001b[0mnbc_ionosphere\u001b[0m\u001b[0;34m,\u001b[0m \u001b[0mcontionosphere\u001b[0m\u001b[0;34m,\u001b[0m \u001b[0mionosphereX\u001b[0m\u001b[0;34m,\u001b[0m \u001b[0mionosphereY\u001b[0m\u001b[0;34m,\u001b[0m \u001b[0mnum_runs\u001b[0m\u001b[0;34m=\u001b[0m\u001b[0;36m200\u001b[0m\u001b[0;34m,\u001b[0m \u001b[0mnum_splits\u001b[0m\u001b[0;34m=\u001b[0m\u001b[0;36m10\u001b[0m\u001b[0;34m)\u001b[0m\u001b[0;34m\u001b[0m\u001b[0;34m\u001b[0m\u001b[0m\n\u001b[0m\u001b[1;32m     18\u001b[0m \u001b[0mprint\u001b[0m\u001b[0;34m(\u001b[0m\u001b[0;34m\"Ionosphere Classification Error List: \"\u001b[0m\u001b[0;34m,\u001b[0m\u001b[0mtst_errs_nbc\u001b[0m\u001b[0;34m,\u001b[0m \u001b[0mtst_errs_lr\u001b[0m\u001b[0;34m)\u001b[0m\u001b[0;34m\u001b[0m\u001b[0;34m\u001b[0m\u001b[0m\n\u001b[1;32m     19\u001b[0m \u001b[0;34m\u001b[0m\u001b[0m\n",
            "\u001b[0;32m<ipython-input-21-2f937cec6778>\u001b[0m in \u001b[0;36mcompareNBCvsLR\u001b[0;34m(nbc, lr, X, y, num_runs, num_splits)\u001b[0m\n\u001b[1;32m     18\u001b[0m         \u001b[0mXtrain\u001b[0m\u001b[0;34m,\u001b[0m \u001b[0mXtest\u001b[0m\u001b[0;34m,\u001b[0m \u001b[0mytrain\u001b[0m\u001b[0;34m,\u001b[0m \u001b[0mytest\u001b[0m \u001b[0;34m=\u001b[0m \u001b[0mtrain_test_split\u001b[0m\u001b[0;34m(\u001b[0m\u001b[0mX\u001b[0m\u001b[0;34m,\u001b[0m \u001b[0my\u001b[0m\u001b[0;34m,\u001b[0m \u001b[0mtest_size\u001b[0m\u001b[0;34m=\u001b[0m\u001b[0msplit\u001b[0m\u001b[0;34m,\u001b[0m \u001b[0mrandom_state\u001b[0m\u001b[0;34m=\u001b[0m\u001b[0;36m1\u001b[0m\u001b[0;34m)\u001b[0m\u001b[0;34m\u001b[0m\u001b[0;34m\u001b[0m\u001b[0m\n\u001b[1;32m     19\u001b[0m \u001b[0;34m\u001b[0m\u001b[0m\n\u001b[0;32m---> 20\u001b[0;31m         \u001b[0mNB\u001b[0m \u001b[0;34m=\u001b[0m \u001b[0mnbc\u001b[0m\u001b[0;34m.\u001b[0m\u001b[0mfit\u001b[0m\u001b[0;34m(\u001b[0m\u001b[0mXtrain\u001b[0m\u001b[0;34m,\u001b[0m \u001b[0mytrain\u001b[0m\u001b[0;34m)\u001b[0m\u001b[0;34m\u001b[0m\u001b[0;34m\u001b[0m\u001b[0m\n\u001b[0m\u001b[1;32m     21\u001b[0m         \u001b[0mlr\u001b[0m\u001b[0;34m.\u001b[0m\u001b[0mfit\u001b[0m\u001b[0;34m(\u001b[0m\u001b[0mXtrain\u001b[0m\u001b[0;34m,\u001b[0m \u001b[0mytrain\u001b[0m\u001b[0;34m)\u001b[0m\u001b[0;34m\u001b[0m\u001b[0;34m\u001b[0m\u001b[0m\n\u001b[1;32m     22\u001b[0m \u001b[0;34m\u001b[0m\u001b[0m\n",
            "\u001b[0;32m<ipython-input-3-847a9787328d>\u001b[0m in \u001b[0;36mfit\u001b[0;34m(self, X, y)\u001b[0m\n\u001b[1;32m     10\u001b[0m     \u001b[0;31m# You should use the parameters based on the types of the features\u001b[0m\u001b[0;34m\u001b[0m\u001b[0;34m\u001b[0m\u001b[0;34m\u001b[0m\u001b[0m\n\u001b[1;32m     11\u001b[0m     \u001b[0;32mdef\u001b[0m \u001b[0mfit\u001b[0m\u001b[0;34m(\u001b[0m\u001b[0mself\u001b[0m\u001b[0;34m,\u001b[0m \u001b[0mX\u001b[0m\u001b[0;34m,\u001b[0m \u001b[0my\u001b[0m\u001b[0;34m)\u001b[0m\u001b[0;34m:\u001b[0m\u001b[0;34m\u001b[0m\u001b[0;34m\u001b[0m\u001b[0m\n\u001b[0;32m---> 12\u001b[0;31m         \u001b[0;32mif\u001b[0m \u001b[0mlen\u001b[0m\u001b[0;34m(\u001b[0m\u001b[0mset\u001b[0m\u001b[0;34m(\u001b[0m\u001b[0mself\u001b[0m\u001b[0;34m.\u001b[0m\u001b[0mfeature_types\u001b[0m\u001b[0;34m)\u001b[0m\u001b[0;34m)\u001b[0m \u001b[0;34m==\u001b[0m \u001b[0;36m1\u001b[0m \u001b[0;32mand\u001b[0m \u001b[0;34m'r'\u001b[0m \u001b[0;32min\u001b[0m \u001b[0mset\u001b[0m\u001b[0;34m(\u001b[0m\u001b[0mself\u001b[0m\u001b[0;34m.\u001b[0m\u001b[0mfeature_types\u001b[0m\u001b[0;34m)\u001b[0m\u001b[0;34m:\u001b[0m\u001b[0;34m\u001b[0m\u001b[0;34m\u001b[0m\u001b[0m\n\u001b[0m\u001b[1;32m     13\u001b[0m            \u001b[0mcontNB\u001b[0m \u001b[0;34m=\u001b[0m \u001b[0mContFeatureParam\u001b[0m\u001b[0;34m(\u001b[0m\u001b[0;34m)\u001b[0m\u001b[0;34m.\u001b[0m\u001b[0mfit\u001b[0m\u001b[0;34m(\u001b[0m\u001b[0mX\u001b[0m\u001b[0;34m,\u001b[0m \u001b[0my\u001b[0m\u001b[0;34m)\u001b[0m\u001b[0;34m\u001b[0m\u001b[0;34m\u001b[0m\u001b[0m\n\u001b[1;32m     14\u001b[0m            \u001b[0mself\u001b[0m\u001b[0;34m.\u001b[0m\u001b[0mNB\u001b[0m \u001b[0;34m=\u001b[0m \u001b[0mcontNB\u001b[0m\u001b[0;34m\u001b[0m\u001b[0;34m\u001b[0m\u001b[0m\n",
            "\u001b[0;31mTypeError\u001b[0m: unhashable type: 'list'"
          ]
        }
      ]
    },
    {
      "cell_type": "markdown",
      "metadata": {
        "id": "J89CcmPpSnv_"
      },
      "source": [
        "**Dataset 6: Sonar Dataset**\n",
        "\n",
        "http://archive.ics.uci.edu/ml/datasets/connectionist+bench+%28sonar,+mines+vs.+rocks%29"
      ]
    },
    {
      "cell_type": "code",
      "metadata": {
        "id": "JYRgS1VLSnv_",
        "colab": {
          "base_uri": "https://localhost:8080/",
          "height": 131
        },
        "outputId": "2890391b-14d3-4fba-bece-7641ec4e0899"
      },
      "source": [
        "sonar = pd.read_csv('/content/drive/MyDrive/Data Science/sonar.csv')\n",
        "\n",
        "sonarX = sonar.drop('label',axis=1)\n",
        "sonarY = sonar[\"label\"]\n",
        "\n",
        "Naive Bayes Classifier\n",
        "nbc_sonar = NBC(feature_types=[['r'] * 60], num_classes=2)\n",
        "\n",
        "# Logistic Regression\n",
        "contsonar = LogisticRegression()\n",
        "\n",
        "# Compare NB and LR Results\n",
        "tst_errs_nbc, tst_errs_lr = compareNBCvsLR(nbc_sonar, contsonar, sonarX, sonarY, num_runs=200, num_splits=10)\n",
        "print(\"Sonar Classification Error List: \",tst_errs_nbc, tst_errs_lr) \n",
        "\n",
        "makePlot(tst_errs_nbc, tst_errs_lr, title=None)\n"
      ],
      "execution_count": null,
      "outputs": [
        {
          "output_type": "error",
          "ename": "SyntaxError",
          "evalue": "ignored",
          "traceback": [
            "\u001b[0;36m  File \u001b[0;32m\"<ipython-input-29-691c10c149cf>\"\u001b[0;36m, line \u001b[0;32m6\u001b[0m\n\u001b[0;31m    Naive Bayes Classifier\u001b[0m\n\u001b[0m              ^\u001b[0m\n\u001b[0;31mSyntaxError\u001b[0m\u001b[0;31m:\u001b[0m invalid syntax\n"
          ]
        }
      ]
    }
  ]
}